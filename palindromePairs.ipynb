{
  "nbformat": 4,
  "nbformat_minor": 0,
  "metadata": {
    "colab": {
      "name": "palindromePairs.ipynb",
      "provenance": [],
      "collapsed_sections": [],
      "authorship_tag": "ABX9TyOxOrqwB+IfQEiNLHc0HARC"
    },
    "kernelspec": {
      "name": "python3",
      "display_name": "Python 3"
    }
  },
  "cells": [
    {
      "cell_type": "code",
      "metadata": {
        "id": "ZSEwpREtRMEN",
        "colab_type": "code",
        "colab": {}
      },
      "source": [
        "def palindromePairs(words):\n",
        "\n",
        "    pairs = []\n",
        "\n",
        "    for i, x in enumerate(words):\n",
        "        for j, y in enumerate(words):\n",
        "            if i == j:\n",
        "                continue\n",
        "            c_word = x + y\n",
        "            #print(c_word,c_word[::-1])\n",
        "            if c_word == c_word[::-1]:\n",
        "                pairs.append([i, j])\n",
        "\n",
        "    return pairs"
      ],
      "execution_count": 0,
      "outputs": []
    }
  ]
}